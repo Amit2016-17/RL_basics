{
 "cells": [
  {
   "cell_type": "markdown",
   "metadata": {},
   "source": [
    "# Basics of Markov Decision Process (MDP) using Python"
   ]
  },
  {
   "cell_type": "markdown",
   "metadata": {},
   "source": [
    "## Markov Chain basics\n",
    "Andrey Markov was a Russian mathematician who studied stochastic processes. Markov was particularly interested in systems that follow a chain of linked events. In 1906, Markov produced interesting results about discrete processes that he called chain. A **Markov Chain** has a set of states S={s0,s1,...,sm} and a process that can move successively from one state to another. Each move is a single step and is based on a transition model T\n",
    "\n",
    "To summarise a Markov chain is defined by:\n",
    "\n",
    "$\\bf{Set\\ of\\ possible\\ States:}S=\\{{s_0,s_1,...,s_m}\\}$\n",
    "\n",
    "$\\bf{Initial\\ State}: s_0$\n",
    "\n",
    "$\\bf{Transition\\ Model}: T(s,s^′)$\n",
    "\n",
    "A Markov chain is based on the Markov Property. The Markov property states that **given the present, the future is conditionally independent of the past.**\n",
    "\n",
    "Let’s suppose we have a chain with only two states $s_0$ and $s_1$, where $s_0$ is the initial state. The process is in $s_0$ 90% of the time and it can move to $s_1$ the remaining 10% of the time. When the process is in state $s_1$ it will remain there 50% of the time.\n",
    "\n",
    "So, the transition matrix can be written as,\n",
    "\n",
    "$$T=\\quad\n",
    "\\begin{bmatrix}\n",
    "0.9 & 0.1 \\\\\n",
    "0.5 & 0.5\n",
    "\\end{bmatrix}$$\n",
    "\n",
    "The transition matrix is always a square matrix, and since we are dealing with probability distributions all the entries are within 0 and 1 and a single row sums to 1.\n",
    "\n",
    "Here is the state diagram,\n",
    "\n",
    "![MDP-1](https://mpatacchiola.github.io/blog/images/simple_markov_chain.png)"
   ]
  },
  {
   "cell_type": "markdown",
   "metadata": {},
   "source": [
    "### Import libraries"
   ]
  },
  {
   "cell_type": "code",
   "execution_count": 3,
   "metadata": {},
   "outputs": [],
   "source": [
    "import numpy as np"
   ]
  },
  {
   "cell_type": "markdown",
   "metadata": {},
   "source": [
    "### Define the transition matrix as numpy array"
   ]
  },
  {
   "cell_type": "code",
   "execution_count": 4,
   "metadata": {},
   "outputs": [],
   "source": [
    "#Declaring the Transition Matrix T\n",
    "T = np.array([[0.90, 0.10],\n",
    "              [0.50, 0.50]])"
   ]
  },
  {
   "cell_type": "markdown",
   "metadata": {},
   "source": [
    "### Compute the _k-step evolution_ of the transition matrix\n",
    "\n",
    "Suppose we have to guess were the process will be after 3 steps and after 50 steps. \n",
    "\n",
    "How can we do it? \n",
    "\n",
    "We are interested in chains that have a finite number of states and are time-homogeneous meaning that the transition matrix does not change over time. Given these assumptions we can compute the _k-step transition probability_ as the $k^{th}$ power of the transition matrix"
   ]
  },
  {
   "cell_type": "code",
   "execution_count": 5,
   "metadata": {},
   "outputs": [],
   "source": [
    "#Obtaining T after 3 steps\n",
    "T_3 = np.linalg.matrix_power(T, 3)\n",
    "#Obtaining T after 50 steps\n",
    "T_50 = np.linalg.matrix_power(T, 50)\n",
    "#Obtaining T after 100 steps\n",
    "T_100 = np.linalg.matrix_power(T, 100)"
   ]
  },
  {
   "cell_type": "markdown",
   "metadata": {},
   "source": [
    "### Print the resulting matrices and see that there is no change between $T_{50}$ and $T_{100}$"
   ]
  },
  {
   "cell_type": "code",
   "execution_count": 6,
   "metadata": {},
   "outputs": [
    {
     "name": "stdout",
     "output_type": "stream",
     "text": [
      "T: [[0.9 0.1]\n",
      " [0.5 0.5]]\n",
      "T_3: [[0.844 0.156]\n",
      " [0.78  0.22 ]]\n",
      "T_50: [[0.83333333 0.16666667]\n",
      " [0.83333333 0.16666667]]\n",
      "T_100: [[0.83333333 0.16666667]\n",
      " [0.83333333 0.16666667]]\n"
     ]
    }
   ],
   "source": [
    "#Printing the matrices\n",
    "print(\"T: \" + str(T))\n",
    "print(\"T_3: \" + str(T_3))\n",
    "print(\"T_50: \" + str(T_50))\n",
    "print(\"T_100: \" + str(T_100))"
   ]
  },
  {
   "cell_type": "markdown",
   "metadata": {},
   "source": [
    "### Initial state and its evolution through transition\n",
    "\n",
    "Now we define the initial distribution which represent the state of the system at k=0. Our system is composed of two states and we can model the initial distribution as a vector with two elements, the first element of the vector represents the probability of staying in the state $s_0$ and the second element the probability of staying in state $s_1$. Let’s suppose that we start from $s_0$, the vector **v** representing the initial distribution will have this form:\n",
    "$$\\bf{v=\\{1,0\\}}$$\n",
    "\n",
    "We can calculate the probability of being in a specific state after k iterations multiplying the initial distribution and the transition matrix:\n",
    "$$\\bf{v.T^k}$$"
   ]
  },
  {
   "cell_type": "code",
   "execution_count": 7,
   "metadata": {},
   "outputs": [],
   "source": [
    "#Declaring the initial distribution\n",
    "v = np.array([[1.0, 0.0]])"
   ]
  },
  {
   "cell_type": "code",
   "execution_count": 8,
   "metadata": {},
   "outputs": [
    {
     "name": "stdout",
     "output_type": "stream",
     "text": [
      "v: [[1. 0.]]\n",
      "v_1: [[0.9 0.1]]\n",
      "v_3: [[0.844 0.156]]\n",
      "v_50: [[0.83333333 0.16666667]]\n",
      "v_100: [[0.83333333 0.16666667]]\n"
     ]
    }
   ],
   "source": [
    "print(\"v: \" + str(v))\n",
    "print(\"v_1: \" + str(np.dot(v,T)))\n",
    "print(\"v_3: \" + str(np.dot(v,T_3)))\n",
    "print(\"v_50: \" + str(np.dot(v,T_50)))\n",
    "print(\"v_100: \" + str(np.dot(v,T_100)))"
   ]
  },
  {
   "cell_type": "markdown",
   "metadata": {},
   "source": [
    "This is what is going on,\n",
    "\n",
    "![](https://mpatacchiola.github.io/blog/images/markov_chain_tree.png)"
   ]
  },
  {
   "cell_type": "markdown",
   "metadata": {},
   "source": [
    "### Now let's define a quite different initial state and see what happens\n",
    "\n",
    "Let’s suppose that we start from $s_0$, the vector **v** representing the initial distribution with this form:\n",
    "$$\\bf{v=\\{0.5,0.5\\}}$$"
   ]
  },
  {
   "cell_type": "code",
   "execution_count": 9,
   "metadata": {},
   "outputs": [
    {
     "name": "stdout",
     "output_type": "stream",
     "text": [
      "v: [[0.5 0.5]]\n",
      "v_1: [[0.7 0.3]]\n",
      "v_3: [[0.812 0.188]]\n",
      "v_50: [[0.83333333 0.16666667]]\n",
      "v_100: [[0.83333333 0.16666667]]\n"
     ]
    }
   ],
   "source": [
    "v = np.array([[0.5, 0.5]])\n",
    "\n",
    "print(\"v: \" + str(v))\n",
    "print(\"v_1: \" + str(np.dot(v,T)))\n",
    "print(\"v_3: \" + str(np.dot(v,T_3)))\n",
    "print(\"v_50: \" + str(np.dot(v,T_50)))\n",
    "print(\"v_100: \" + str(np.dot(v,T_100)))"
   ]
  },
  {
   "cell_type": "markdown",
   "metadata": {},
   "source": [
    "### What is happening in the long run? \n",
    "\n",
    "The result after 50 and 100 iterations are the same and `v_50` is equal to `v_100` no matter which starting distribution we have. The chain converged to equilibrium meaning that as the time progresses it forgets about the starting distribution. \n",
    "\n",
    "But we have to be careful, the convergence is not always guaranteed. The dynamics of a Markov chain can be very complex, in particular it is possible to have transient and recurrent states."
   ]
  },
  {
   "cell_type": "markdown",
   "metadata": {},
   "source": [
    "## Markov Decision Process (MDP)\n",
    "\n",
    "In reinforcement learning, MDP is an extremely useful concept and a starting point for discussion. Formally, a MDP is a reinterpretation of Markov chains which includes an **agent** and a **decision making process**.\n",
    "\n",
    "A MDP is defined by the following components:\n",
    "\n",
    "1. Set of possible States: $S = \\{s_0,s_1,...,s_m\\}$\n",
    "2. Initial state: $s_0$\n",
    "3. Set of possible Actions: $A=\\{a_0,a_1,...,a_n\\}$\n",
    "4. Transition Model: $T(s,a,s')$\n",
    "5. Reward function: $R(s)$\n",
    "\n",
    "The transition model returns the probability of reaching the state $s′$ if the action $a$ is done in state $s$. But given $s$ and $a$ the model is conditionally independent of all previous states and actions (Markov Property). \n",
    "\n",
    "Moreover, there is the Reward function $R(s)$ which return a real value every time the agent moves from one state to the other. Since we have a reward function we can say that some states are more desirable that others because when the agent moves in those states it receives an higher reward. On the opposite there are states that are not desirable at all, because when the agent moves there it receives a negative reward.\n",
    "\n",
    "***So, what is the computing problem and what is a possible solution in this setting?***\n",
    "\n",
    "* **Problem**: The agent has to maximize the reward avoiding states which return negative values and choosing the one which return positive values.\n",
    "\n",
    "* **Solution**: To find a policy $\\pi(s)$ which returns the action with the highest reward. The agent can try different policies but only one of those can be considered an optimal policy, denoted by $\\pi^*$, which yields to the **highest expected utility**."
   ]
  },
  {
   "cell_type": "markdown",
   "metadata": {},
   "source": [
    "### Transition matrix generation"
   ]
  },
  {
   "cell_type": "code",
   "execution_count": 38,
   "metadata": {},
   "outputs": [],
   "source": [
    "def return_transition(tot_row, tot_col):\n",
    "    \n",
    "    T = np.zeros((12, 12, 4))\n",
    "    counter = 0\n",
    "    \n",
    "    def return_extended_world(row, col, action, tot_row, tot_col):\n",
    "    \n",
    "        extended_world = np.zeros((tot_row+2, tot_col+2))\n",
    "\n",
    "        #If the state is on the grey-obstacle it returns all zeros\n",
    "        if(row == 1 and col == 1): return extended_world[1:4, 1:5]\n",
    "        #If the process is on the final reward state it returns zeros\n",
    "        if(row == 0 and col == 3): return extended_world[1:4, 1:5]\n",
    "        #If the process is on the final punishment state then returns zeros\n",
    "        if(row == 1 and col == 3): return extended_world[1:4, 1:5]\n",
    "\n",
    "        if(action==\"up\"):\n",
    "                col += 1\n",
    "                row += 1\n",
    "                extended_world[row-1, col] = 0.8\n",
    "                extended_world[row, col+1] = 0.1  \n",
    "                extended_world[row, col-1] = 0.1           \n",
    "        elif(action==\"down\"): \n",
    "                col += 1\n",
    "                row += 1\n",
    "                extended_world[row+1, col] = 0.8\n",
    "                extended_world[row, col+1] = 0.1  \n",
    "                extended_world[row, col-1] = 0.1\n",
    "        elif(action==\"left\"):\n",
    "                col += 1\n",
    "                row += 1\n",
    "                extended_world[row-1, col] = 0.1\n",
    "                extended_world[row+1, col] = 0.1  \n",
    "                extended_world[row, col-1] = 0.8\n",
    "        elif(action==\"right\"):\n",
    "                col += 1\n",
    "                row += 1\n",
    "                extended_world[row-1, col] = 0.1\n",
    "                extended_world[row+1, col] = 0.1  \n",
    "                extended_world[row, col+1] = 0.8\n",
    "\n",
    "        #Reset the obstacle\n",
    "        if(extended_world[2, 2] != 0): extended_world[row, col] += extended_world[2, 2]\n",
    "        extended_world[2, 2] = 0.0\n",
    "\n",
    "        #Control bouncing\n",
    "        for row in range(0, 5):   \n",
    "                if(extended_world[row, 0] != 0): extended_world[row, 1] += extended_world[row, 0]\n",
    "                if(extended_world[row, 5] != 0): extended_world[row, 4] += extended_world[row, 5]\n",
    "        for col in range(0, 6):\n",
    "                if(extended_world[0, col] != 0): extended_world[1, col] += extended_world[0, col]\n",
    "                if(extended_world[4, col] != 0): extended_world[3, col] += extended_world[4, col]\n",
    "\n",
    "        return extended_world[1:4, 1:5]\n",
    "    \n",
    "    for row in range(0, 3):\n",
    "        for col in range(0, 4):\n",
    "            line = return_extended_world(row, col, action=\"up\", tot_row=3, tot_col=4)\n",
    "            T[counter, : , 0] = line.flatten()\n",
    "            line = return_extended_world(row, col, action=\"left\", tot_row=3, tot_col=4)\n",
    "            T[counter, : , 1] = line.flatten()\n",
    "            line = return_extended_world(row, col, action=\"down\", tot_row=3, tot_col=4)\n",
    "            T[counter, : , 2] = line.flatten()\n",
    "            line = return_extended_world(row, col, action=\"right\", tot_row=3, tot_col=4)\n",
    "            T[counter, : , 3] = line.flatten()\n",
    "\n",
    "            counter += 1\n",
    "    \n",
    "    return T"
   ]
  },
  {
   "cell_type": "code",
   "execution_count": 46,
   "metadata": {},
   "outputs": [],
   "source": [
    "T=return_transition(3,4)"
   ]
  },
  {
   "cell_type": "code",
   "execution_count": 47,
   "metadata": {},
   "outputs": [
    {
     "data": {
      "text/plain": [
       "(12, 12, 4)"
      ]
     },
     "execution_count": 47,
     "metadata": {},
     "output_type": "execute_result"
    }
   ],
   "source": [
    "T.shape"
   ]
  },
  {
   "cell_type": "code",
   "execution_count": 48,
   "metadata": {},
   "outputs": [
    {
     "data": {
      "text/plain": [
       "array([[[0.9, 0.9, 0.1, 0.1],\n",
       "        [0.1, 0. , 0.1, 0.8],\n",
       "        [0. , 0. , 0. , 0. ],\n",
       "        [0. , 0. , 0. , 0. ],\n",
       "        [0. , 0.1, 0.8, 0.1],\n",
       "        [0. , 0. , 0. , 0. ],\n",
       "        [0. , 0. , 0. , 0. ],\n",
       "        [0. , 0. , 0. , 0. ],\n",
       "        [0. , 0. , 0. , 0. ],\n",
       "        [0. , 0. , 0. , 0. ],\n",
       "        [0. , 0. , 0. , 0. ],\n",
       "        [0. , 0. , 0. , 0. ]],\n",
       "\n",
       "       [[0.1, 0.8, 0.1, 0. ],\n",
       "        [0.8, 0.2, 0.8, 0.2],\n",
       "        [0.1, 0. , 0.1, 0.8],\n",
       "        [0. , 0. , 0. , 0. ],\n",
       "        [0. , 0. , 0. , 0. ],\n",
       "        [0. , 0. , 0. , 0. ],\n",
       "        [0. , 0. , 0. , 0. ],\n",
       "        [0. , 0. , 0. , 0. ],\n",
       "        [0. , 0. , 0. , 0. ],\n",
       "        [0. , 0. , 0. , 0. ],\n",
       "        [0. , 0. , 0. , 0. ],\n",
       "        [0. , 0. , 0. , 0. ]],\n",
       "\n",
       "       [[0. , 0. , 0. , 0. ],\n",
       "        [0.1, 0.8, 0.1, 0. ],\n",
       "        [0.8, 0.1, 0. , 0.1],\n",
       "        [0.1, 0. , 0.1, 0.8],\n",
       "        [0. , 0. , 0. , 0. ],\n",
       "        [0. , 0. , 0. , 0. ],\n",
       "        [0. , 0.1, 0.8, 0.1],\n",
       "        [0. , 0. , 0. , 0. ],\n",
       "        [0. , 0. , 0. , 0. ],\n",
       "        [0. , 0. , 0. , 0. ],\n",
       "        [0. , 0. , 0. , 0. ],\n",
       "        [0. , 0. , 0. , 0. ]],\n",
       "\n",
       "       [[0. , 0. , 0. , 0. ],\n",
       "        [0. , 0. , 0. , 0. ],\n",
       "        [0. , 0. , 0. , 0. ],\n",
       "        [0. , 0. , 0. , 0. ],\n",
       "        [0. , 0. , 0. , 0. ],\n",
       "        [0. , 0. , 0. , 0. ],\n",
       "        [0. , 0. , 0. , 0. ],\n",
       "        [0. , 0. , 0. , 0. ],\n",
       "        [0. , 0. , 0. , 0. ],\n",
       "        [0. , 0. , 0. , 0. ],\n",
       "        [0. , 0. , 0. , 0. ],\n",
       "        [0. , 0. , 0. , 0. ]],\n",
       "\n",
       "       [[0.8, 0.1, 0. , 0.1],\n",
       "        [0. , 0. , 0. , 0. ],\n",
       "        [0. , 0. , 0. , 0. ],\n",
       "        [0. , 0. , 0. , 0. ],\n",
       "        [0.2, 0.8, 0.2, 0.8],\n",
       "        [0. , 0. , 0. , 0. ],\n",
       "        [0. , 0. , 0. , 0. ],\n",
       "        [0. , 0. , 0. , 0. ],\n",
       "        [0. , 0.1, 0.8, 0.1],\n",
       "        [0. , 0. , 0. , 0. ],\n",
       "        [0. , 0. , 0. , 0. ],\n",
       "        [0. , 0. , 0. , 0. ]],\n",
       "\n",
       "       [[0. , 0. , 0. , 0. ],\n",
       "        [0. , 0. , 0. , 0. ],\n",
       "        [0. , 0. , 0. , 0. ],\n",
       "        [0. , 0. , 0. , 0. ],\n",
       "        [0. , 0. , 0. , 0. ],\n",
       "        [0. , 0. , 0. , 0. ],\n",
       "        [0. , 0. , 0. , 0. ],\n",
       "        [0. , 0. , 0. , 0. ],\n",
       "        [0. , 0. , 0. , 0. ],\n",
       "        [0. , 0. , 0. , 0. ],\n",
       "        [0. , 0. , 0. , 0. ],\n",
       "        [0. , 0. , 0. , 0. ]],\n",
       "\n",
       "       [[0. , 0. , 0. , 0. ],\n",
       "        [0. , 0. , 0. , 0. ],\n",
       "        [0.8, 0.1, 0. , 0.1],\n",
       "        [0. , 0. , 0. , 0. ],\n",
       "        [0. , 0. , 0. , 0. ],\n",
       "        [0. , 0. , 0. , 0. ],\n",
       "        [0.1, 0.8, 0.1, 0. ],\n",
       "        [0.1, 0. , 0.1, 0.8],\n",
       "        [0. , 0. , 0. , 0. ],\n",
       "        [0. , 0. , 0. , 0. ],\n",
       "        [0. , 0.1, 0.8, 0.1],\n",
       "        [0. , 0. , 0. , 0. ]],\n",
       "\n",
       "       [[0. , 0. , 0. , 0. ],\n",
       "        [0. , 0. , 0. , 0. ],\n",
       "        [0. , 0. , 0. , 0. ],\n",
       "        [0. , 0. , 0. , 0. ],\n",
       "        [0. , 0. , 0. , 0. ],\n",
       "        [0. , 0. , 0. , 0. ],\n",
       "        [0. , 0. , 0. , 0. ],\n",
       "        [0. , 0. , 0. , 0. ],\n",
       "        [0. , 0. , 0. , 0. ],\n",
       "        [0. , 0. , 0. , 0. ],\n",
       "        [0. , 0. , 0. , 0. ],\n",
       "        [0. , 0. , 0. , 0. ]],\n",
       "\n",
       "       [[0. , 0. , 0. , 0. ],\n",
       "        [0. , 0. , 0. , 0. ],\n",
       "        [0. , 0. , 0. , 0. ],\n",
       "        [0. , 0. , 0. , 0. ],\n",
       "        [0.8, 0.1, 0. , 0.1],\n",
       "        [0. , 0. , 0. , 0. ],\n",
       "        [0. , 0. , 0. , 0. ],\n",
       "        [0. , 0. , 0. , 0. ],\n",
       "        [0.1, 0.9, 0.9, 0.1],\n",
       "        [0.1, 0. , 0.1, 0.8],\n",
       "        [0. , 0. , 0. , 0. ],\n",
       "        [0. , 0. , 0. , 0. ]],\n",
       "\n",
       "       [[0. , 0. , 0. , 0. ],\n",
       "        [0. , 0. , 0. , 0. ],\n",
       "        [0. , 0. , 0. , 0. ],\n",
       "        [0. , 0. , 0. , 0. ],\n",
       "        [0. , 0. , 0. , 0. ],\n",
       "        [0. , 0. , 0. , 0. ],\n",
       "        [0. , 0. , 0. , 0. ],\n",
       "        [0. , 0. , 0. , 0. ],\n",
       "        [0.1, 0.8, 0.1, 0. ],\n",
       "        [0.8, 0.2, 0.8, 0.2],\n",
       "        [0.1, 0. , 0.1, 0.8],\n",
       "        [0. , 0. , 0. , 0. ]],\n",
       "\n",
       "       [[0. , 0. , 0. , 0. ],\n",
       "        [0. , 0. , 0. , 0. ],\n",
       "        [0. , 0. , 0. , 0. ],\n",
       "        [0. , 0. , 0. , 0. ],\n",
       "        [0. , 0. , 0. , 0. ],\n",
       "        [0. , 0. , 0. , 0. ],\n",
       "        [0.8, 0.1, 0. , 0.1],\n",
       "        [0. , 0. , 0. , 0. ],\n",
       "        [0. , 0. , 0. , 0. ],\n",
       "        [0.1, 0.8, 0.1, 0. ],\n",
       "        [0. , 0.1, 0.8, 0.1],\n",
       "        [0.1, 0. , 0.1, 0.8]],\n",
       "\n",
       "       [[0. , 0. , 0. , 0. ],\n",
       "        [0. , 0. , 0. , 0. ],\n",
       "        [0. , 0. , 0. , 0. ],\n",
       "        [0. , 0. , 0. , 0. ],\n",
       "        [0. , 0. , 0. , 0. ],\n",
       "        [0. , 0. , 0. , 0. ],\n",
       "        [0. , 0. , 0. , 0. ],\n",
       "        [0.8, 0.1, 0. , 0.1],\n",
       "        [0. , 0. , 0. , 0. ],\n",
       "        [0. , 0. , 0. , 0. ],\n",
       "        [0.1, 0.8, 0.1, 0. ],\n",
       "        [0.1, 0.1, 0.9, 0.9]]])"
      ]
     },
     "execution_count": 48,
     "metadata": {},
     "output_type": "execute_result"
    }
   ],
   "source": [
    "T"
   ]
  },
  {
   "cell_type": "markdown",
   "metadata": {},
   "source": [
    "### Function to compute state utility value "
   ]
  },
  {
   "cell_type": "code",
   "execution_count": 49,
   "metadata": {},
   "outputs": [],
   "source": [
    "def return_state_utility(v, T, u, reward, gamma):\n",
    "    \"\"\"Return the state utility.\n",
    "\n",
    "    @param v the state vector\n",
    "    @param T transition matrix\n",
    "    @param u utility vector\n",
    "    @param reward for that state\n",
    "    @param gamma discount factor\n",
    "    @return the utility of the state\n",
    "    \"\"\"\n",
    "    import numpy as np\n",
    "    action_array = np.zeros(4)\n",
    "    for action in range(0, 4):\n",
    "        action_array[action] = np.sum(np.multiply(u, np.dot(v, T[:,:,action])))\n",
    "        \n",
    "    return reward + gamma * np.max(action_array)"
   ]
  },
  {
   "cell_type": "markdown",
   "metadata": {},
   "source": [
    "### Testing the utility of (1,1) for the small Grid World"
   ]
  },
  {
   "cell_type": "code",
   "execution_count": 50,
   "metadata": {},
   "outputs": [
    {
     "name": "stdout",
     "output_type": "stream",
     "text": [
      "Utility of state (1,1): 0.7056\n"
     ]
    }
   ],
   "source": [
    "#Starting state vector\n",
    "#The agent starts from (1, 1)\n",
    "v = np.array([[0.0, 0.0, 0.0, 0.0, \n",
    "                0.0, 0.0, 0.0, 0.0, \n",
    "                1.0, 0.0, 0.0, 0.0]])\n",
    "\n",
    "#Utility vector\n",
    "u = np.array([[0.812, 0.868, 0.918,   1.0,\n",
    "               0.762,   0.0, 0.660,  -1.0,\n",
    "               0.705, 0.655, 0.611, 0.388]])\n",
    "\n",
    "#Defining the reward for state (1,1)\n",
    "reward = -0.04\n",
    "#Assuming that the discount factor is equal to 1.0\n",
    "gamma = 1.0\n",
    "\n",
    "#Use the Bellman equation to find the utility of state (1,1)\n",
    "utility_11 = return_state_utility(v, T, u, reward, gamma)\n",
    "print(\"Utility of state (1,1): \" + str(utility_11))"
   ]
  },
  {
   "cell_type": "markdown",
   "metadata": {},
   "source": [
    "### Value iteration function"
   ]
  },
  {
   "cell_type": "code",
   "execution_count": 71,
   "metadata": {},
   "outputs": [],
   "source": [
    "def value_iteration(transition_matrix,reward_vector,gamma=0.999,epsilon=0.01):\n",
    "    \"\"\"\n",
    "    gamma = 0.999 #Discount factor\n",
    "    epsilon = 0.01 #Stopping criteria small value\n",
    "    \"\"\"\n",
    "    \n",
    "    tot_states = 12\n",
    "    iteration = 0 #Iteration counter\n",
    "\n",
    "    #List containing the data for each iteation\n",
    "    graph_list = list()\n",
    "    \n",
    "    transition_matrix = return_transition(3,4)\n",
    "\n",
    "    #Reward vector\n",
    "    r = np.array(reward_vector)    \n",
    "\n",
    "    #Utility vectors (random initilizations)\n",
    "    u = np.array([0.0, 0.0, 0.0,  0.0,\n",
    "                   0.0, 0.0, 0.0,  0.0,\n",
    "                   0.0, 0.0, 0.0,  0.0])\n",
    "    u1 = np.array([0.0, 0.0, 0.0,  0.0,\n",
    "                    0.0, 0.0, 0.0,  0.0,\n",
    "                    0.0, 0.0, 0.0,  0.0])\n",
    "\n",
    "    while True:\n",
    "        delta = 0\n",
    "        u = u1.copy()\n",
    "        iteration += 1\n",
    "        graph_list.append(u)\n",
    "        for s in range(tot_states):\n",
    "            reward = r[s]\n",
    "            v = np.zeros((1,tot_states))\n",
    "            v[0,s] = 1.0\n",
    "            u1[s] = return_state_utility(v, T, u, reward, gamma)\n",
    "            delta = max(delta, np.abs(u1[s] - u[s])) #Stopping criteria       \n",
    "        if delta < epsilon * (1 - gamma) / gamma:\n",
    "                print(\"=================== FINAL RESULT ==================\")\n",
    "                print(\"Iterations: \" + str(iteration))\n",
    "                print(\"Delta: \" + str(delta))\n",
    "                print(\"Gamma: \" + str(gamma))\n",
    "                print(\"Epsilon: \" + str(epsilon))\n",
    "                print(\"===================================================\")\n",
    "                print(u[0:4])\n",
    "                print(u[4:8])\n",
    "                print(u[8:12])\n",
    "                print(\"===================================================\")\n",
    "                break\n",
    "    return np.array(graph_list)"
   ]
  },
  {
   "cell_type": "markdown",
   "metadata": {},
   "source": [
    "### Define the reward vector"
   ]
  },
  {
   "cell_type": "code",
   "execution_count": 72,
   "metadata": {},
   "outputs": [],
   "source": [
    "#Reward vector\n",
    "r = np.array([-0.04, -0.04, -0.04,  +1.0,\n",
    "              -0.04,   0.0, -0.04,  -1.0,\n",
    "              -0.04, -0.04, -0.04, -0.04])"
   ]
  },
  {
   "cell_type": "markdown",
   "metadata": {},
   "source": [
    "### Run value iteration"
   ]
  },
  {
   "cell_type": "code",
   "execution_count": 82,
   "metadata": {},
   "outputs": [
    {
     "name": "stdout",
     "output_type": "stream",
     "text": [
      "=================== FINAL RESULT ==================\n",
      "Iterations: 26\n",
      "Delta: 9.511968687869743e-06\n",
      "Gamma: 0.999\n",
      "Epsilon: 0.01\n",
      "===================================================\n",
      "[0.80796341 0.86539911 0.91653199 1.        ]\n",
      "[ 0.75696613  0.          0.65836281 -1.        ]\n",
      "[0.69968168 0.64881721 0.60471137 0.3814863 ]\n",
      "===================================================\n"
     ]
    }
   ],
   "source": [
    "g=value_iteration(T,r,gamma=0.999,epsilon=0.01)"
   ]
  },
  {
   "cell_type": "markdown",
   "metadata": {},
   "source": [
    "### Plot the utility values for different states as they evolve through value iteration"
   ]
  },
  {
   "cell_type": "code",
   "execution_count": 83,
   "metadata": {},
   "outputs": [],
   "source": [
    "import matplotlib.pyplot as plt "
   ]
  },
  {
   "cell_type": "code",
   "execution_count": 84,
   "metadata": {},
   "outputs": [
    {
     "data": {
      "text/plain": [
       "(26, 12)"
      ]
     },
     "execution_count": 84,
     "metadata": {},
     "output_type": "execute_result"
    }
   ],
   "source": [
    "g.shape"
   ]
  },
  {
   "cell_type": "code",
   "execution_count": 85,
   "metadata": {},
   "outputs": [],
   "source": [
    "g_list=list(g.T)"
   ]
  },
  {
   "cell_type": "code",
   "execution_count": 86,
   "metadata": {},
   "outputs": [
    {
     "data": {
      "image/png": "[encoded data removed]",
      "text/plain": [
       "<Figure size 432x288 with 1 Axes>"
      ]
     },
     "metadata": {},
     "output_type": "display_data"
    }
   ],
   "source": [
    "for i in g_list:\n",
    "    plt.plot(i)\n",
    "plt.show()"
   ]
  },
  {
   "cell_type": "code",
   "execution_count": null,
   "metadata": {},
   "outputs": [],
   "source": []
  }
 ],
 "metadata": {
  "kernelspec": {
   "display_name": "Python 3",
   "language": "python",
   "name": "python3"
  },
  "language_info": {
   "codemirror_mode": {
    "name": "ipython",
    "version": 3
   },
   "file_extension": ".py",
   "mimetype": "text/x-python",
   "name": "python",
   "nbconvert_exporter": "python",
   "pygments_lexer": "ipython3",
   "version": "3.6.2"
  },
  "latex_envs": {
   "LaTeX_envs_menu_present": true,
   "autoclose": false,
   "autocomplete": true,
   "bibliofile": "biblio.bib",
   "cite_by": "apalike",
   "current_citInitial": 1,
   "eqLabelWithNumbers": true,
   "eqNumInitial": 1,
   "hotkeys": {
    "equation": "Ctrl-E",
    "itemize": "Ctrl-I"
   },
   "labels_anchors": false,
   "latex_user_defs": false,
   "report_style_numbering": false,
   "user_envs_cfg": false
  }
 },
 "nbformat": 4,
 "nbformat_minor": 2
}
